{
 "cells": [
  {
   "cell_type": "markdown",
   "id": "462a2ed1-45dd-4cf9-b610-1614f5be3824",
   "metadata": {},
   "source": [
    "# My Jupyter Notebook on IBM Watson Studio"
   ]
  },
  {
   "cell_type": "markdown",
   "id": "b5b70170-c6fa-4bdc-bb38-7893113cad51",
   "metadata": {},
   "source": [
    "**Ayush Giri**<br>\n",
    "I want to be a successfull data scientist"
   ]
  },
  {
   "cell_type": "markdown",
   "id": "a74ba6a0-41b3-411c-a6d2-36d09e849264",
   "metadata": {},
   "source": [
    "_I am interested in data science as the tasks in the job excites me very much. It is a combination of many skills that makes a good data scienctist._ "
   ]
  },
  {
   "cell_type": "markdown",
   "id": "bcc8094a-6b42-4779-8e4a-18ce3f766687",
   "metadata": {},
   "source": [
    "### The following code prints the product of 2,3"
   ]
  },
  {
   "cell_type": "code",
   "execution_count": 5,
   "id": "beccec83-e2c5-4db7-9404-2426937303a5",
   "metadata": {},
   "outputs": [
    {
     "name": "stdout",
     "output_type": "stream",
     "text": [
      "6\n"
     ]
    }
   ],
   "source": [
    "print(2*3)"
   ]
  },
  {
   "cell_type": "markdown",
   "id": "b41e163a-454a-4bd5-84e5-b02d8bf85e75",
   "metadata": {},
   "source": [
    "1. here is a horizontal rule\n",
    "* * * * \n",
    "- and this is below the line<br>\n",
    "<a href=\"https://www.ibm.com/in-en\">IBM</a>\n"
   ]
  },
  {
   "cell_type": "code",
   "execution_count": null,
   "id": "ba7b6e59-6bc4-4bf1-9b7a-9bae0acd6a2e",
   "metadata": {},
   "outputs": [],
   "source": []
  }
 ],
 "metadata": {
  "kernelspec": {
   "display_name": "Python",
   "language": "python",
   "name": "conda-env-python-py"
  },
  "language_info": {
   "codemirror_mode": {
    "name": "ipython",
    "version": 3
   },
   "file_extension": ".py",
   "mimetype": "text/x-python",
   "name": "python",
   "nbconvert_exporter": "python",
   "pygments_lexer": "ipython3",
   "version": "3.7.12"
  }
 },
 "nbformat": 4,
 "nbformat_minor": 5
}
